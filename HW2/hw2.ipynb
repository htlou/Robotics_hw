{
 "cells": [
  {
   "cell_type": "markdown",
   "metadata": {},
   "source": [
    "## Homework \\#2\n",
    "2200017789 楼翰涛"
   ]
  },
  {
   "cell_type": "code",
   "execution_count": 1,
   "metadata": {},
   "outputs": [],
   "source": [
    "import sympy\n",
    "from sympy import symbols, sin, cos, tan, solveset, S, pi\n",
    "\n",
    "L1, L2, L3 = 4, 3, 2\n",
    "x = symbols('theta_1')\n",
    "y = symbols('theta_2')\n",
    "z = symbols('theta_3')\n"
   ]
  },
  {
   "cell_type": "code",
   "execution_count": 15,
   "metadata": {},
   "outputs": [],
   "source": [
    "def solve(r11, r21, px, py):\n",
    "    if(r11 == 0):\n",
    "        equations = [\n",
    "            L1*cos(x) + L2*cos(x+y) - px + L3*r11, \n",
    "            L1*sin(x) + L2*sin(x+y) - py + L3*r21, \n",
    "            cos(x+y+z)\n",
    "            ]\n",
    "    else:\n",
    "        equations = [\n",
    "            L1*cos(x) + L2*cos(x+y) - px + L3*r11, \n",
    "            L1*sin(x) + L2*sin(x+y) - py + L3*r21, \n",
    "            tan(x+y+z) - r21/r11\n",
    "            ]\n",
    "    solutions = sympy.solve(equations, (x, y, z))\n",
    "    return solutions\n",
    "\n",
    "def verification(theta_1, theta_2, theta_3):\n",
    "    px = L1*cos(theta_1) + L2*cos(theta_1 + theta_2) + L3*cos(theta_1 + theta_2 + theta_3)\n",
    "    py = L1*sin(theta_1) + L2*sin(theta_1 + theta_2) + L3*sin(theta_1 + theta_2 + theta_3)\n",
    "    r11 = cos(theta_1 + theta_2 + theta_3)\n",
    "    r12 = -sin(theta_1 + theta_2 + theta_3)\n",
    "    r21 = sin(theta_1 + theta_2 + theta_3)\n",
    "    r22 = cos(theta_1 + theta_2 + theta_3)\n",
    "    T = [[r11, r12, 0, px], [r21, r22, 0, py], [0, 0, 1, 0], [0, 0, 0, 1]]\n",
    "    return T\n",
    "\n",
    "def pipeline(r11, r21, px, py):\n",
    "    solutions = solve(r11, r21, px, py)\n",
    "    for sol in solutions:\n",
    "        print(sol)\n",
    "        sx, sy, sz = sol\n",
    "        T = verification(sx, sy, sz)\n",
    "        print(T)"
   ]
  },
  {
   "cell_type": "code",
   "execution_count": 12,
   "metadata": {},
   "outputs": [
    {
     "name": "stdout",
     "output_type": "stream",
     "text": [
      "(0, 0, 0)\n",
      "[[1, 0, 0, 9], [0, 1, 0, 0], [0, 0, 1, 0], [0, 0, 0, 1]]\n"
     ]
    }
   ],
   "source": [
    "r11, r21, px, py = 1, 0, 9, 0\n",
    "pipeline(r11, r21, px, py)"
   ]
  },
  {
   "cell_type": "code",
   "execution_count": 13,
   "metadata": {},
   "outputs": [
    {
     "name": "stdout",
     "output_type": "stream",
     "text": [
      "(0.174531016738699, 0.349073458163395, 0.523580374122833)\n",
      "[[0.500011000363013, -0.866019052628739, 0, 7.53732200072603], [0.866019052628739, 0.500011000363013, 0, 3.92663810525748], [0, 0, 1, 0], [0, 0, 0, 1]]\n",
      "(0.473234869026610, -0.349073458163395, 0.923023438161712)\n",
      "[[0.500011000363013, -0.866019052628739, 0, 7.53732200072603], [0.866019052628739, 0.500011000363013, 0, 3.92663810525748], [0, 0, 1, 0], [0, 0, 0, 1]]\n"
     ]
    }
   ],
   "source": [
    "r11, r21, px, py = 0.5, 0.866, 7.5373, 3.9266\n",
    "pipeline(r11, r21, px, py)"
   ]
  },
  {
   "cell_type": "code",
   "execution_count": 16,
   "metadata": {},
   "outputs": [
    {
     "name": "stdout",
     "output_type": "stream",
     "text": [
      "(pi/2, pi/2, pi/2)\n",
      "[[0, 1, 0, -3], [-1, 0, 0, 2], [0, 0, 1, 0], [0, 0, 0, 1]]\n",
      "(pi/2, pi/2, 3*pi/2)\n",
      "[[0, -1, 0, -3], [1, 0, 0, 6], [0, 0, 1, 0], [0, 0, 0, 1]]\n",
      "(-I*log(-24/25 + 7*I/25), -pi/2, I*log(-24/25 + 7*I/25))\n",
      "[[0, 1, 0, 4*cos(I*log(-24/25 + 7*I/25)) - 3*sin(I*log(-24/25 + 7*I/25))], [-1, 0, 0, -2 - 4*sin(I*log(-24/25 + 7*I/25)) - 3*cos(I*log(-24/25 + 7*I/25))], [0, 0, 1, 0], [0, 0, 0, 1]]\n",
      "(-I*log(-24/25 + 7*I/25), -pi/2, pi - I*log(25) + I*log(-24 + 7*I))\n",
      "[[sin(I*log(-24/25 + 7*I/25) - I*log(-24 + 7*I) + I*log(25)), -cos(I*log(-24/25 + 7*I/25) - I*log(-24 + 7*I) + I*log(25)), 0, 4*cos(I*log(-24/25 + 7*I/25)) - 3*sin(I*log(-24/25 + 7*I/25)) + 2*sin(I*log(-24/25 + 7*I/25) - I*log(-24 + 7*I) + I*log(25))], [cos(I*log(-24/25 + 7*I/25) - I*log(-24 + 7*I) + I*log(25)), sin(I*log(-24/25 + 7*I/25) - I*log(-24 + 7*I) + I*log(25)), 0, -4*sin(I*log(-24/25 + 7*I/25)) - 3*cos(I*log(-24/25 + 7*I/25)) + 2*cos(I*log(-24/25 + 7*I/25) - I*log(-24 + 7*I) + I*log(25))], [0, 0, 1, 0], [0, 0, 0, 1]]\n"
     ]
    }
   ],
   "source": [
    "r11, r21, px, py = 0, -1, -3, 2\n",
    "pipeline(r11, r21, px, py)\n",
    "## 这里显然取前两组解即可，后两组虚数解按实际情况舍去"
   ]
  }
 ],
 "metadata": {
  "kernelspec": {
   "display_name": "ds",
   "language": "python",
   "name": "python3"
  },
  "language_info": {
   "codemirror_mode": {
    "name": "ipython",
    "version": 3
   },
   "file_extension": ".py",
   "mimetype": "text/x-python",
   "name": "python",
   "nbconvert_exporter": "python",
   "pygments_lexer": "ipython3",
   "version": "3.11.5"
  }
 },
 "nbformat": 4,
 "nbformat_minor": 2
}
